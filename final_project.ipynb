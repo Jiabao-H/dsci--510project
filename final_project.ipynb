{
 "cells": [
  {
   "cell_type": "markdown",
   "metadata": {},
   "source": [
    "### DSCI 510 Fall2020 Final Project Submission"
   ]
  },
  {
   "cell_type": "markdown",
   "metadata": {},
   "source": [
    "**1.Your name**"
   ]
  },
  {
   "cell_type": "raw",
   "metadata": {},
   "source": [
    "He Jiabao"
   ]
  },
  {
   "cell_type": "markdown",
   "metadata": {},
   "source": [
    "**2.Any major “gotchas” to the code?**"
   ]
  },
  {
   "cell_type": "raw",
   "metadata": {},
   "source": [
    "I mainly encountered the following problems in the entire project code:\n",
    "--> In the crawling stage, the speed of the network will affect the speed of the crawling. When my network is slow, an error will be reported. There is also the api crawler that requires little data or hard to access the required data. This is why I changed two data sources in Miletone2.I also find that sometimes web crawlers are easier than direct api requests.\n",
    "--> In Miletone2, I used pandas to process data. My processing was too cumbersome and unnecessary. Although I finally got the data set I wanted, the code part could be improved better."
   ]
  },
  {
   "cell_type": "markdown",
   "metadata": {},
   "source": [
    "**3.Any libraries that need to be installed to run your code？**"
   ]
  },
  {
   "cell_type": "raw",
   "metadata": {},
   "source": [
    "-->The installation packages I use are all built-in with python3 and only need to be imported, but the connection to the database requires pip installation.\n",
    "-->in miletone2 HE_JIABAO_proj2.py is the main file  you can find them in that part include some input parameters(--grade --source remote )"
   ]
  },
  {
   "cell_type": "markdown",
   "metadata": {},
   "source": [
    "**4.Anything else you feel is relevant to the grading of your project your project.**"
   ]
  },
  {
   "cell_type": "raw",
   "metadata": {},
   "source": [
    "My entire project is very clear. First I went to two websites (zillow and jobble) and a website with api (yelp) crawler three data sets. Then process and store the data required for subsequent analysis according to the zipcode to which each address belongs. Finally, I used the processed data to perform multiple linear regression analysis and predict the housing prices in Los Angeles, and connected to the local database to create a query table and export into salary.json (you can find in /data)for simple query."
   ]
  },
  {
   "cell_type": "markdown",
   "metadata": {},
   "source": [
    "**5.What did you set out to study?**"
   ]
  },
  {
   "cell_type": "raw",
   "metadata": {},
   "source": [
    "Because the original api website requests very little data and it is hard to get a suitable data set, I changed the crawler website.you can find the details in miletones2 .\n",
    "But my overall research goals have hardly changed.\n",
    "--> Analysis and forecast of Los Angeles housing prices.\n",
    "--> Upload part of the data set to the local database and for easy query."
   ]
  },
  {
   "cell_type": "markdown",
   "metadata": {},
   "source": [
    "**6.What did you Discover/what were your conclusion**"
   ]
  },
  {
   "cell_type": "raw",
   "metadata": {},
   "source": [
    "I found that simply using a linear regression model to predict housing prices is not that accurate.(the score is 0.5771277818580572) I think the main reason is insufficient data. And regression analysis will be affected to a certain extent, linear regression model will affect the diversity and unpredictability of factors.\n",
    "Conclusion:The impact on housing prices from large to small are  'sqft', 'bds', 'ba', 'rating', 'avg_person'\n",
    "########## Supplement that the influencing factors of my research on housing prices are:############\n",
    "'sqft'-> House area           \n",
    "'bds' -> Number of bedrooms     \n",
    "'ba' ->  Number of bathrooms      \n",
    "'rating' ->  Nearby restaurant rating    \n",
    "'priceavg_person'->Per capita consumption at nearby restaurants\n",
    "'price'->House price"
   ]
  },
  {
   "cell_type": "markdown",
   "metadata": {},
   "source": [
    "**7. What difficulties did you have in completing the project?**"
   ]
  },
  {
   "cell_type": "raw",
   "metadata": {},
   "source": [
    "-->From the above,in the crawling stage,hard to access api website\n",
    "-->modeling data,use pandas deal with data\n",
    "-->connect mysql, create the salary table "
   ]
  },
  {
   "cell_type": "markdown",
   "metadata": {},
   "source": [
    "**8. What skills did you wish you had while you were doing the project?**"
   ]
  },
  {
   "cell_type": "raw",
   "metadata": {},
   "source": [
    "I want to own the GIS tech and Geographic visualization. Because it must be interesting to show on the map the places where Los Angeles has the most jobs and the highest salaries and nearby restaurants."
   ]
  },
  {
   "cell_type": "markdown",
   "metadata": {},
   "source": [
    "**9. What would you do “next” to expand or augment the project?**"
   ]
  },
  {
   "cell_type": "raw",
   "metadata": {},
   "source": [
    "In the next step, I plan to expand the salary_price data set and convert it into it. json file and upload salary.json to firebase to perform simpler python query, upload the query results to the database separately, and establish ui web search, which can realize the user search function, so that you can quickly find what you need Information about work and restaurants."
   ]
  },
  {
   "cell_type": "code",
   "execution_count": 1,
   "metadata": {},
   "outputs": [],
   "source": [
    "# select the required attributes for linear regression analysis and generate the new file--> predict_price.csv (you can find /data)"
   ]
  },
  {
   "cell_type": "code",
   "execution_count": 2,
   "metadata": {},
   "outputs": [],
   "source": [
    "import csv\n",
    "\n",
    "temp = []\n",
    "with open('data/price_restaurent.csv','r',encoding='utf-8')as ff:\n",
    "    text = csv.reader(ff)\n",
    "    for i in text:\n",
    "        if 'sqft' not in i:\n",
    "            if i[13].count('$') == 1:\n",
    "                nums = 10\n",
    "            elif i[13].count('$') == 2:\n",
    "                nums = 30\n",
    "            elif i[13].count('$') == 3:\n",
    "                nums = 60\n",
    "            elif i[13].count('$') == 4:\n",
    "                nums = 100\n",
    "            else:\n",
    "                nums = 0\n",
    "            temp.append([i[5],i[6],i[7],i[11],nums,i[4]])\n",
    "\n",
    "with open('data/predict_price.csv','w',encoding='utf-8-sig',newline='')as fff:\n",
    "    writer = csv.writer(fff)\n",
    "    writer.writerow(['sqft','bds','ba','rating','avg_person','price'])\n",
    "    for i in temp:\n",
    "        writer.writerow(i)"
   ]
  },
  {
   "cell_type": "code",
   "execution_count": 3,
   "metadata": {},
   "outputs": [],
   "source": [
    "import pandas as pd\n",
    "import seaborn as sns\n",
    "import matplotlib.pyplot as plt\n",
    "import matplotlib\n",
    "import numpy as np"
   ]
  },
  {
   "cell_type": "code",
   "execution_count": 4,
   "metadata": {},
   "outputs": [],
   "source": [
    "np.set_printoptions(suppress=True)\n",
    "data = pd.read_csv('data/predict_price.csv')\n",
    "#data['price']=data['price'].astype(str)"
   ]
  },
  {
   "cell_type": "code",
   "execution_count": 5,
   "metadata": {},
   "outputs": [
    {
     "data": {
      "text/html": [
       "<div>\n",
       "<style scoped>\n",
       "    .dataframe tbody tr th:only-of-type {\n",
       "        vertical-align: middle;\n",
       "    }\n",
       "\n",
       "    .dataframe tbody tr th {\n",
       "        vertical-align: top;\n",
       "    }\n",
       "\n",
       "    .dataframe thead th {\n",
       "        text-align: right;\n",
       "    }\n",
       "</style>\n",
       "<table border=\"1\" class=\"dataframe\">\n",
       "  <thead>\n",
       "    <tr style=\"text-align: right;\">\n",
       "      <th></th>\n",
       "      <th>sqft</th>\n",
       "      <th>bds</th>\n",
       "      <th>ba</th>\n",
       "      <th>rating</th>\n",
       "      <th>avg_person</th>\n",
       "      <th>price</th>\n",
       "    </tr>\n",
       "  </thead>\n",
       "  <tbody>\n",
       "    <tr>\n",
       "      <th>0</th>\n",
       "      <td>1151.0</td>\n",
       "      <td>2.0</td>\n",
       "      <td>3.0</td>\n",
       "      <td>4.5</td>\n",
       "      <td>30</td>\n",
       "      <td>612900</td>\n",
       "    </tr>\n",
       "    <tr>\n",
       "      <th>1</th>\n",
       "      <td>1151.0</td>\n",
       "      <td>2.0</td>\n",
       "      <td>3.0</td>\n",
       "      <td>4.5</td>\n",
       "      <td>30</td>\n",
       "      <td>612900</td>\n",
       "    </tr>\n",
       "    <tr>\n",
       "      <th>2</th>\n",
       "      <td>1151.0</td>\n",
       "      <td>2.0</td>\n",
       "      <td>3.0</td>\n",
       "      <td>4.0</td>\n",
       "      <td>30</td>\n",
       "      <td>612900</td>\n",
       "    </tr>\n",
       "    <tr>\n",
       "      <th>3</th>\n",
       "      <td>1151.0</td>\n",
       "      <td>2.0</td>\n",
       "      <td>3.0</td>\n",
       "      <td>4.5</td>\n",
       "      <td>30</td>\n",
       "      <td>612900</td>\n",
       "    </tr>\n",
       "    <tr>\n",
       "      <th>4</th>\n",
       "      <td>1151.0</td>\n",
       "      <td>2.0</td>\n",
       "      <td>3.0</td>\n",
       "      <td>4.0</td>\n",
       "      <td>30</td>\n",
       "      <td>612900</td>\n",
       "    </tr>\n",
       "  </tbody>\n",
       "</table>\n",
       "</div>"
      ],
      "text/plain": [
       "     sqft  bds   ba  rating  avg_person   price\n",
       "0  1151.0  2.0  3.0     4.5          30  612900\n",
       "1  1151.0  2.0  3.0     4.5          30  612900\n",
       "2  1151.0  2.0  3.0     4.0          30  612900\n",
       "3  1151.0  2.0  3.0     4.5          30  612900\n",
       "4  1151.0  2.0  3.0     4.0          30  612900"
      ]
     },
     "execution_count": 5,
     "metadata": {},
     "output_type": "execute_result"
    }
   ],
   "source": [
    "data.head(5) # check the attributes"
   ]
  },
  {
   "cell_type": "code",
   "execution_count": 6,
   "metadata": {},
   "outputs": [
    {
     "name": "stdout",
     "output_type": "stream",
     "text": [
      "<class 'pandas.core.frame.DataFrame'>\n",
      "RangeIndex: 997 entries, 0 to 996\n",
      "Data columns (total 6 columns):\n",
      " #   Column      Non-Null Count  Dtype  \n",
      "---  ------      --------------  -----  \n",
      " 0   sqft        997 non-null    float64\n",
      " 1   bds         997 non-null    float64\n",
      " 2   ba          997 non-null    float64\n",
      " 3   rating      997 non-null    float64\n",
      " 4   avg_person  997 non-null    int64  \n",
      " 5   price       997 non-null    int64  \n",
      "dtypes: float64(4), int64(2)\n",
      "memory usage: 46.9 KB\n"
     ]
    }
   ],
   "source": [
    "data.info() #Check the null value, because the data is processed in miletone2, so there is no need to fill in the null value."
   ]
  },
  {
   "cell_type": "code",
   "execution_count": 7,
   "metadata": {},
   "outputs": [
    {
     "data": {
      "text/html": [
       "<div>\n",
       "<style scoped>\n",
       "    .dataframe tbody tr th:only-of-type {\n",
       "        vertical-align: middle;\n",
       "    }\n",
       "\n",
       "    .dataframe tbody tr th {\n",
       "        vertical-align: top;\n",
       "    }\n",
       "\n",
       "    .dataframe thead th {\n",
       "        text-align: right;\n",
       "    }\n",
       "</style>\n",
       "<table border=\"1\" class=\"dataframe\">\n",
       "  <thead>\n",
       "    <tr style=\"text-align: right;\">\n",
       "      <th></th>\n",
       "      <th>sqft</th>\n",
       "      <th>bds</th>\n",
       "      <th>ba</th>\n",
       "      <th>rating</th>\n",
       "      <th>avg_person</th>\n",
       "      <th>price</th>\n",
       "    </tr>\n",
       "  </thead>\n",
       "  <tbody>\n",
       "    <tr>\n",
       "      <th>count</th>\n",
       "      <td>997.000000</td>\n",
       "      <td>997.000000</td>\n",
       "      <td>997.000000</td>\n",
       "      <td>997.000000</td>\n",
       "      <td>997.000000</td>\n",
       "      <td>9.970000e+02</td>\n",
       "    </tr>\n",
       "    <tr>\n",
       "      <th>mean</th>\n",
       "      <td>3183.798395</td>\n",
       "      <td>3.578736</td>\n",
       "      <td>3.840522</td>\n",
       "      <td>4.146439</td>\n",
       "      <td>35.045135</td>\n",
       "      <td>3.746094e+06</td>\n",
       "    </tr>\n",
       "    <tr>\n",
       "      <th>std</th>\n",
       "      <td>3198.753704</td>\n",
       "      <td>2.090586</td>\n",
       "      <td>2.516939</td>\n",
       "      <td>0.337752</td>\n",
       "      <td>15.397118</td>\n",
       "      <td>8.412791e+06</td>\n",
       "    </tr>\n",
       "    <tr>\n",
       "      <th>min</th>\n",
       "      <td>384.000000</td>\n",
       "      <td>0.000000</td>\n",
       "      <td>1.000000</td>\n",
       "      <td>3.500000</td>\n",
       "      <td>10.000000</td>\n",
       "      <td>5.200000e+03</td>\n",
       "    </tr>\n",
       "    <tr>\n",
       "      <th>25%</th>\n",
       "      <td>1234.000000</td>\n",
       "      <td>2.000000</td>\n",
       "      <td>2.000000</td>\n",
       "      <td>4.000000</td>\n",
       "      <td>30.000000</td>\n",
       "      <td>8.680000e+05</td>\n",
       "    </tr>\n",
       "    <tr>\n",
       "      <th>50%</th>\n",
       "      <td>2000.000000</td>\n",
       "      <td>3.000000</td>\n",
       "      <td>3.000000</td>\n",
       "      <td>4.000000</td>\n",
       "      <td>30.000000</td>\n",
       "      <td>1.499000e+06</td>\n",
       "    </tr>\n",
       "    <tr>\n",
       "      <th>75%</th>\n",
       "      <td>4309.000000</td>\n",
       "      <td>5.000000</td>\n",
       "      <td>5.000000</td>\n",
       "      <td>4.500000</td>\n",
       "      <td>30.000000</td>\n",
       "      <td>3.497000e+06</td>\n",
       "    </tr>\n",
       "    <tr>\n",
       "      <th>max</th>\n",
       "      <td>31624.000000</td>\n",
       "      <td>20.000000</td>\n",
       "      <td>23.000000</td>\n",
       "      <td>5.000000</td>\n",
       "      <td>100.000000</td>\n",
       "      <td>1.600000e+08</td>\n",
       "    </tr>\n",
       "  </tbody>\n",
       "</table>\n",
       "</div>"
      ],
      "text/plain": [
       "               sqft         bds          ba      rating  avg_person  \\\n",
       "count    997.000000  997.000000  997.000000  997.000000  997.000000   \n",
       "mean    3183.798395    3.578736    3.840522    4.146439   35.045135   \n",
       "std     3198.753704    2.090586    2.516939    0.337752   15.397118   \n",
       "min      384.000000    0.000000    1.000000    3.500000   10.000000   \n",
       "25%     1234.000000    2.000000    2.000000    4.000000   30.000000   \n",
       "50%     2000.000000    3.000000    3.000000    4.000000   30.000000   \n",
       "75%     4309.000000    5.000000    5.000000    4.500000   30.000000   \n",
       "max    31624.000000   20.000000   23.000000    5.000000  100.000000   \n",
       "\n",
       "              price  \n",
       "count  9.970000e+02  \n",
       "mean   3.746094e+06  \n",
       "std    8.412791e+06  \n",
       "min    5.200000e+03  \n",
       "25%    8.680000e+05  \n",
       "50%    1.499000e+06  \n",
       "75%    3.497000e+06  \n",
       "max    1.600000e+08  "
      ]
     },
     "execution_count": 7,
     "metadata": {},
     "output_type": "execute_result"
    }
   ],
   "source": [
    "data.describe()"
   ]
  },
  {
   "cell_type": "code",
   "execution_count": 8,
   "metadata": {},
   "outputs": [
    {
     "data": {
      "text/plain": [
       "array([[<matplotlib.axes._subplots.AxesSubplot object at 0x0000018B3BBA0048>,\n",
       "        <matplotlib.axes._subplots.AxesSubplot object at 0x0000018B3C2CCE48>],\n",
       "       [<matplotlib.axes._subplots.AxesSubplot object at 0x0000018B3C307E88>,\n",
       "        <matplotlib.axes._subplots.AxesSubplot object at 0x0000018B3C339788>],\n",
       "       [<matplotlib.axes._subplots.AxesSubplot object at 0x0000018B3C372888>,\n",
       "        <matplotlib.axes._subplots.AxesSubplot object at 0x0000018B3C3AB988>]],\n",
       "      dtype=object)"
      ]
     },
     "execution_count": 8,
     "metadata": {},
     "output_type": "execute_result"
    },
    {
     "data": {
      "image/png": "[encoded data removed]",
      "text/plain": [
       "<Figure size 1152x648 with 6 Axes>"
      ]
     },
     "metadata": {},
     "output_type": "display_data"
    }
   ],
   "source": [
    "%matplotlib inline\n",
    "from matplotlib import pyplot as plt\n",
    "plt.style.use('ggplot')\n",
    "data.hist(bins=50,figsize=(16,9))"
   ]
  },
  {
   "cell_type": "code",
   "execution_count": 9,
   "metadata": {},
   "outputs": [],
   "source": [
    "#It can be seen from the figure above that the unit of measurement for each attribute is different, so feature normalization will be done later."
   ]
  },
  {
   "cell_type": "code",
   "execution_count": 10,
   "metadata": {},
   "outputs": [
    {
     "name": "stderr",
     "output_type": "stream",
     "text": [
      "C:\\Users\\12133\\Anaconda3\\lib\\site-packages\\sklearn\\utils\\validation.py:760: DataConversionWarning: A column-vector y was passed when a 1d array was expected. Please change the shape of y to (n_samples, ), for example using ravel().\n",
      "  y = column_or_1d(y, warn=True)\n"
     ]
    },
    {
     "data": {
      "text/plain": [
       "array([ True,  True,  True,  True,  True])"
      ]
     },
     "execution_count": 10,
     "metadata": {},
     "output_type": "execute_result"
    }
   ],
   "source": [
    "#sqft\tbds\tba\trating\tavg_person\t\n",
    "x = data[['sqft', 'bds', 'ba', 'rating', 'avg_person']]\n",
    "y = data[['price']]\n",
    "from sklearn.feature_selection import SelectKBest\n",
    "from sklearn.feature_selection import f_regression\n",
    "SelectKBest = SelectKBest(f_regression, k=5)\n",
    "bestFeature = SelectKBest.fit_transform(x,y)\n",
    "SelectKBest.get_support()\n",
    "#x.columns[SelectKBest.get_support()]"
   ]
  },
  {
   "cell_type": "code",
   "execution_count": 11,
   "metadata": {},
   "outputs": [
    {
     "data": {
      "text/plain": [
       "Index(['sqft', 'bds', 'ba', 'rating', 'avg_person'], dtype='object')"
      ]
     },
     "execution_count": 11,
     "metadata": {},
     "output_type": "execute_result"
    }
   ],
   "source": [
    "x.columns[SelectKBest.get_support()]\n",
    "#From here, we can easily see that the two factors that have the greatest impact on house prices are the room size and the number of bedrooms."
   ]
  },
  {
   "cell_type": "code",
   "execution_count": 12,
   "metadata": {},
   "outputs": [],
   "source": [
    "#Standardize the data and view the scatter plot after standardization"
   ]
  },
  {
   "cell_type": "code",
   "execution_count": 13,
   "metadata": {},
   "outputs": [],
   "source": [
    "features = data[['sqft', 'bds', 'ba', 'rating', 'avg_person','price']]\n",
    "from sklearn.preprocessing import MinMaxScaler\n",
    "scaler = MinMaxScaler()\n",
    "for feature in features.columns:\n",
    "    features['normal'+feature] = scaler.fit_transform(features[[feature]])\n",
    "    \n"
   ]
  },
  {
   "cell_type": "code",
   "execution_count": 14,
   "metadata": {},
   "outputs": [
    {
     "data": {
      "text/plain": [
       "array([[<matplotlib.axes._subplots.AxesSubplot object at 0x0000018B3CEBC288>,\n",
       "        <matplotlib.axes._subplots.AxesSubplot object at 0x0000018B3CEE6FC8>,\n",
       "        <matplotlib.axes._subplots.AxesSubplot object at 0x0000018B3CF24C48>,\n",
       "        <matplotlib.axes._subplots.AxesSubplot object at 0x0000018B3CF5D908>,\n",
       "        <matplotlib.axes._subplots.AxesSubplot object at 0x0000018B3CF95A08>,\n",
       "        <matplotlib.axes._subplots.AxesSubplot object at 0x0000018B3CFCDB08>],\n",
       "       [<matplotlib.axes._subplots.AxesSubplot object at 0x0000018B3D004C08>,\n",
       "        <matplotlib.axes._subplots.AxesSubplot object at 0x0000018B3D03DD48>,\n",
       "        <matplotlib.axes._subplots.AxesSubplot object at 0x0000018B3D048948>,\n",
       "        <matplotlib.axes._subplots.AxesSubplot object at 0x0000018B3D07FB08>,\n",
       "        <matplotlib.axes._subplots.AxesSubplot object at 0x0000018B3D0EC088>,\n",
       "        <matplotlib.axes._subplots.AxesSubplot object at 0x0000018B3D123188>],\n",
       "       [<matplotlib.axes._subplots.AxesSubplot object at 0x0000018B3D15C288>,\n",
       "        <matplotlib.axes._subplots.AxesSubplot object at 0x0000018B3D1963C8>,\n",
       "        <matplotlib.axes._subplots.AxesSubplot object at 0x0000018B3D1CE4C8>,\n",
       "        <matplotlib.axes._subplots.AxesSubplot object at 0x0000018B3D205548>,\n",
       "        <matplotlib.axes._subplots.AxesSubplot object at 0x0000018B3D243E88>,\n",
       "        <matplotlib.axes._subplots.AxesSubplot object at 0x0000018B3D278788>],\n",
       "       [<matplotlib.axes._subplots.AxesSubplot object at 0x0000018B3D2B1888>,\n",
       "        <matplotlib.axes._subplots.AxesSubplot object at 0x0000018B3D2EA9C8>,\n",
       "        <matplotlib.axes._subplots.AxesSubplot object at 0x0000018B3D324A88>,\n",
       "        <matplotlib.axes._subplots.AxesSubplot object at 0x0000018B3D35CB88>,\n",
       "        <matplotlib.axes._subplots.AxesSubplot object at 0x0000018B3D394C88>,\n",
       "        <matplotlib.axes._subplots.AxesSubplot object at 0x0000018B3D3CDDC8>],\n",
       "       [<matplotlib.axes._subplots.AxesSubplot object at 0x0000018B3D405EC8>,\n",
       "        <matplotlib.axes._subplots.AxesSubplot object at 0x0000018B3D43CF88>,\n",
       "        <matplotlib.axes._subplots.AxesSubplot object at 0x0000018B3D47A108>,\n",
       "        <matplotlib.axes._subplots.AxesSubplot object at 0x0000018B3D4B5208>,\n",
       "        <matplotlib.axes._subplots.AxesSubplot object at 0x0000018B3D4ED308>,\n",
       "        <matplotlib.axes._subplots.AxesSubplot object at 0x0000018B3D525448>],\n",
       "       [<matplotlib.axes._subplots.AxesSubplot object at 0x0000018B3D55E4C8>,\n",
       "        <matplotlib.axes._subplots.AxesSubplot object at 0x0000018B3D5975C8>,\n",
       "        <matplotlib.axes._subplots.AxesSubplot object at 0x0000018B3D5CF708>,\n",
       "        <matplotlib.axes._subplots.AxesSubplot object at 0x0000018B3D608808>,\n",
       "        <matplotlib.axes._subplots.AxesSubplot object at 0x0000018B3D642908>,\n",
       "        <matplotlib.axes._subplots.AxesSubplot object at 0x0000018B3D67A9C8>]],\n",
       "      dtype=object)"
      ]
     },
     "execution_count": 14,
     "metadata": {},
     "output_type": "execute_result"
    },
    {
     "data": {
      "image/png": "[encoded data removed]",
      "text/plain": [
       "<Figure size 648x648 with 36 Axes>"
      ]
     },
     "metadata": {},
     "output_type": "display_data"
    }
   ],
   "source": [
    "font={\n",
    "      'family':'SimHei'\n",
    "      }\n",
    "matplotlib.rc('font', **font)\n",
    "pd.plotting.scatter_matrix(features[['normalsqft', 'normalbds', 'normalba','normalrating','normalavg_person','normalprice']], alpha=0.7, figsize=(9,9), diagonal='hist')"
   ]
  },
  {
   "cell_type": "code",
   "execution_count": 15,
   "metadata": {},
   "outputs": [],
   "source": [
    "#Split the data set into training data and test data train-%70 test-%30\n",
    "from sklearn.model_selection import train_test_split\n",
    "x_train, x_test, y_train, y_test = train_test_split(features[['normalsqft', 'normalbds', 'normalba','normalrating','normalavg_person']], features['normalprice'], test_size=0.3,random_state=0)"
   ]
  },
  {
   "cell_type": "code",
   "execution_count": 16,
   "metadata": {},
   "outputs": [
    {
     "name": "stdout",
     "output_type": "stream",
     "text": [
      "0.5771277818580572\n"
     ]
    }
   ],
   "source": [
    "#-->Part1-->  create Linear regression model and calculate the score\n",
    "from sklearn import linear_model\n",
    "from sklearn.model_selection import cross_val_predict\n",
    "from sklearn.model_selection import cross_val_score\n",
    "lp = linear_model.LinearRegression()\n",
    "lp_predict = cross_val_predict(lp,x_train, y_train, cv=5)\n",
    "lp_score = cross_val_score(lp, x_train, y_train, cv=5)\n",
    "lp_meanscore = lp_score.mean()\n",
    "print(lp_meanscore)"
   ]
  },
  {
   "cell_type": "code",
   "execution_count": 17,
   "metadata": {},
   "outputs": [
    {
     "name": "stdout",
     "output_type": "stream",
     "text": [
      "0 6273\n",
      "1 18436\n",
      "2 6422\n"
     ]
    }
   ],
   "source": [
    "#-->Part2--> Linear regression model predicts housing prices\n",
    "lp.fit(x_train, y_train)\n",
    "client_data=[[10551,3.0,2.0,4.5,30],[31005,6.0,3.0,5.0,100],[10800,3.0,3.0,4.5,60]]\n",
    "lp_y_predict = lp.predict(client_data)\n",
    "for i,price in enumerate(lp_y_predict):        \n",
    "    print(i,\"%d\" %price)\n",
    "    "
   ]
  },
  {
   "cell_type": "code",
   "execution_count": 18,
   "metadata": {},
   "outputs": [],
   "source": [
    "#From the scores obtained and the three predicted housing prices obtained from the input examples, it can be seen that using multiple linear regression models to analyze and predict housing prices is not accurate enough."
   ]
  },
  {
   "cell_type": "code",
   "execution_count": 19,
   "metadata": {},
   "outputs": [],
   "source": [
    "#-->part3 Upload to the local database and create the required table "
   ]
  },
  {
   "cell_type": "code",
   "execution_count": 20,
   "metadata": {},
   "outputs": [],
   "source": [
    "import csv\n",
    "import mysql.connector\n",
    "\n",
    "\n",
    "lists = []\n",
    "with open('data/price_salary.csv','r',encoding='utf-8')as f:\n",
    "    content = csv.reader(f)\n",
    "    for con in content:\n",
    "        if 'address_x' not in con:\n",
    "            lists.append([con[3],con[8],con[9],con[10],con[4]])\n",
    "\n",
    "conn = mysql.connector.connect(host = 'localhost',user = 'dsci551',database='world',password = 'dsci551')\n",
    "cur = conn.cursor()\n",
    "for i in lists:\n",
    "    cur.execute('insert into salary(zipcode,title,address,salary,price) values(\"%s\",\"%s\",\"%s\",\"%s\",\"%s\")'%(i[0],i[1],i[2],i[3],i[4]))\n",
    "    conn.commit()\n",
    "conn.close()"
   ]
  },
  {
   "cell_type": "code",
   "execution_count": 21,
   "metadata": {},
   "outputs": [],
   "source": [
    "#--> i use MYSQL Workbench to create the new table and insert the part of data (price_salary.csv ) into the new table salary .\n",
    "#--> and i also export the new table into salary.json (you can find it in /data)"
   ]
  },
  {
   "cell_type": "code",
   "execution_count": null,
   "metadata": {},
   "outputs": [],
   "source": []
  },
  {
   "cell_type": "code",
   "execution_count": null,
   "metadata": {},
   "outputs": [],
   "source": []
  },
  {
   "cell_type": "code",
   "execution_count": null,
   "metadata": {},
   "outputs": [],
   "source": []
  }
 ],
 "metadata": {
  "kernelspec": {
   "display_name": "Python 3",
   "language": "python",
   "name": "python3"
  },
  "language_info": {
   "codemirror_mode": {
    "name": "ipython",
    "version": 3
   },
   "file_extension": ".py",
   "mimetype": "text/x-python",
   "name": "python",
   "nbconvert_exporter": "python",
   "pygments_lexer": "ipython3",
   "version": "3.7.6"
  }
 },
 "nbformat": 4,
 "nbformat_minor": 4
}
